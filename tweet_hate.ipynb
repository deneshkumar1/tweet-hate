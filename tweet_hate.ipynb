{
 "cells": [
  {
   "cell_type": "markdown",
   "id": "86447cee",
   "metadata": {},
   "source": [
    "## _Natural Language Processing_ \n",
    "### _Help Twitter Combat Hate Speech Using NLP and Machine Learning_\n",
    "***\n",
    "<b>DESCRIPTION</b>\n",
    "\n",
    "Using NLP and ML, make a model to identify hate speech (racist or sexist tweets) in Twitter.\n",
    "\n",
    "<b>Problem Statement:</b>\n",
    "***\n",
    "\n",
    "Twitter is the biggest platform where anybody and everybody can have their views heard. Some of these voices spread hate and negativity. Twitter is wary of its platform being used as a medium  to spread hate. \n",
    "\n",
    "You are a data scientist at Twitter, and you will help Twitter in identifying the tweets with hate speech and removing them from the platform. You will use NLP techniques, perform specific cleanup for tweets data, and make a robust model.\n",
    "\n",
    "Domain: Social Media\n",
    "\n",
    "<b>Analysis to be done:</b> Clean up tweets and build a classification model by using NLP techniques, cleanup specific for tweets data, regularization and hyperparameter tuning using stratified k-fold and cross validation to get the best model.\n",
    "\n",
    "<b>Content: </b>\n",
    "\n",
    "id: identifier number of the tweet\n",
    "\n",
    "Label: 0 (non-hate) /1 (hate)\n",
    "\n",
    "Tweet: the text in the tweet\n",
    "***\n",
    "\n",
    "<b>Tasks: </b>\n",
    "\n",
    "Load the tweets file using read_csv function from Pandas package. \n",
    "\n",
    "Get the tweets into a list for easy text cleanup and manipulation.\n",
    "\n",
    "<b>To cleanup: </b>\n",
    "\n",
    "- Normalize the casing.\n",
    "- Using regular expressions, remove user handles. These begin with '@’.\n",
    "- Using regular expressions, remove URLs.\n",
    "- Using TweetTokenizer from NLTK, tokenize the tweets into individual terms.\n",
    "- Remove stop words.\n",
    "- Remove redundant terms like ‘amp’, ‘rt’, etc.\n",
    "- Remove ‘#’ symbols from the tweet while retaining the term.\n",
    "- Extra cleanup by removing terms with a length of 1.\n",
    "\n",
    "<b>Check out the top terms in the tweets:</b>\n",
    "- First, get all the tokenized terms into one large list.\n",
    "- Use the counter and find the 10 most common terms.\n",
    "\n",
    "<b>Data formatting for predictive modeling:</b>\n",
    "- Join the tokens back to form strings. This will be required for the vectorizers.\n",
    "- Assign x and y.\n",
    "- Perform train_test_split using sklearn.\n",
    "\n",
    "<b>We’ll use TF-IDF values for the terms as a feature to get into a vector space model.</b>\n",
    "- Import TF-IDF  vectorizer from sklearn.\n",
    "- Instantiate with a maximum of 5000 terms in your vocabulary.\n",
    "- Fit and apply on the train set.\n",
    "- Apply on the test set.\n",
    "\n",
    "</b>Model building: Ordinary Logistic Regression</b>\n",
    "- Instantiate Logistic Regression from sklearn with default parameters.\n",
    "- Fit into  the train data.\n",
    "- Make predictions for the train and the test set.\n",
    "\n",
    "<b>Model evaluation: Accuracy, recall, and f_1 score.</b>\n",
    "- Report the accuracy on the train set.\n",
    "- Report the recall on the train set: decent, high, or low.\n",
    "- Get the f1 score on the train set.\n",
    "\n",
    "<b>Looks like you need to adjust the class imbalance, as the model seems to focus on the 0s.</b>\n",
    "- Adjust the appropriate class in the LogisticRegression model.\n",
    "\n",
    "<b>Train again with the adjustment and evaluate.</b>\n",
    "- Train the model on the train set.\n",
    "- Evaluate the predictions on the train set: accuracy, recall, and f_1 score.\n",
    "\n",
    "<b>Regularization and Hyperparameter tuning:</b>\n",
    "- Import GridSearch and StratifiedKFold because of class imbalance.\n",
    "- Provide the parameter grid to choose for ‘C’ and ‘penalty’ parameters.\n",
    "- Use a balanced class weight while instantiating the logistic regression.\n",
    "\n",
    "<b>Find the parameters with the best recall in cross-validation.</b>\n",
    "- Choose ‘recall’ as the metric for scoring.\n",
    "- Choose a stratified 4 fold cross-validation scheme.\n",
    "- Fit into  the train set.\n",
    "\n",
    "<b>What are the best parameters?</b>\n",
    "\n",
    "<b>Predict and evaluate using the best estimator.</b>\n",
    "- Use the best estimator from the grid search to make predictions on the test set.\n",
    "- What is the recall on the test set for the toxic comments?\n",
    "- What is the f_1 score?\n"
   ]
  },
  {
   "cell_type": "code",
   "execution_count": 2,
   "id": "9262ff56",
   "metadata": {},
   "outputs": [],
   "source": [
    "#general packages for data manipulation\n",
    "import os\n",
    "import pandas as pd\n",
    "import numpy as np\n",
    "#visualizations\n",
    "import matplotlib.pyplot as plt\n",
    "import seaborn as sns\n",
    "%matplotlib inline\n",
    "#consistent sized plot \n",
    "from pylab import rcParams\n",
    "rcParams['figure.figsize']=12,5\n",
    "rcParams['axes.labelsize']=12\n",
    "rcParams['xtick.labelsize']=12\n",
    "rcParams['ytick.labelsize']=12\n",
    "#handle the warnings in the code\n",
    "import warnings\n",
    "warnings.filterwarnings(action='ignore',category=DeprecationWarning)\n",
    "warnings.filterwarnings(action='ignore',category=FutureWarning)\n",
    "#text preprocessing libraries\n",
    "import nltk\n",
    "from nltk.corpus import stopwords\n",
    "from nltk.tokenize import word_tokenize\n",
    "from nltk.tokenize import sent_tokenize\n",
    "from nltk.tokenize import WordPunctTokenizer\n",
    "from nltk.tokenize import TweetTokenizer\n",
    "from nltk.stem import WordNetLemmatizer\n",
    "from nltk.stem import PorterStemmer\n",
    "#import texthero\n",
    "#import texthero as hero\n",
    "#regular expressions\n",
    "import re\n",
    "#display pandas dataframe columns \n",
    "pd.options.display.max_columns = None"
   ]
  },
  {
   "cell_type": "code",
   "execution_count": 3,
   "id": "a529e274",
   "metadata": {},
   "outputs": [
    {
     "data": {
      "text/html": [
       "<div>\n",
       "<style scoped>\n",
       "    .dataframe tbody tr th:only-of-type {\n",
       "        vertical-align: middle;\n",
       "    }\n",
       "\n",
       "    .dataframe tbody tr th {\n",
       "        vertical-align: top;\n",
       "    }\n",
       "\n",
       "    .dataframe thead th {\n",
       "        text-align: right;\n",
       "    }\n",
       "</style>\n",
       "<table border=\"1\" class=\"dataframe\">\n",
       "  <thead>\n",
       "    <tr style=\"text-align: right;\">\n",
       "      <th></th>\n",
       "      <th>id</th>\n",
       "      <th>label</th>\n",
       "      <th>tweet</th>\n",
       "    </tr>\n",
       "  </thead>\n",
       "  <tbody>\n",
       "    <tr>\n",
       "      <th>0</th>\n",
       "      <td>1</td>\n",
       "      <td>0</td>\n",
       "      <td>@user when a father is dysfunctional and is s...</td>\n",
       "    </tr>\n",
       "    <tr>\n",
       "      <th>1</th>\n",
       "      <td>2</td>\n",
       "      <td>0</td>\n",
       "      <td>@user @user thanks for #lyft credit i can't us...</td>\n",
       "    </tr>\n",
       "    <tr>\n",
       "      <th>2</th>\n",
       "      <td>3</td>\n",
       "      <td>0</td>\n",
       "      <td>bihday your majesty</td>\n",
       "    </tr>\n",
       "    <tr>\n",
       "      <th>3</th>\n",
       "      <td>4</td>\n",
       "      <td>0</td>\n",
       "      <td>#model   i love u take with u all the time in ...</td>\n",
       "    </tr>\n",
       "    <tr>\n",
       "      <th>4</th>\n",
       "      <td>5</td>\n",
       "      <td>0</td>\n",
       "      <td>factsguide: society now    #motivation</td>\n",
       "    </tr>\n",
       "  </tbody>\n",
       "</table>\n",
       "</div>"
      ],
      "text/plain": [
       "   id  label                                              tweet\n",
       "0   1      0   @user when a father is dysfunctional and is s...\n",
       "1   2      0  @user @user thanks for #lyft credit i can't us...\n",
       "2   3      0                                bihday your majesty\n",
       "3   4      0  #model   i love u take with u all the time in ...\n",
       "4   5      0             factsguide: society now    #motivation"
      ]
     },
     "execution_count": 3,
     "metadata": {},
     "output_type": "execute_result"
    }
   ],
   "source": [
    "tweet=pd.read_csv(\"TwitterHate.csv\")\n",
    "tweet.head()"
   ]
  },
  {
   "cell_type": "code",
   "execution_count": 4,
   "id": "525c25c9",
   "metadata": {},
   "outputs": [],
   "source": [
    "#get rid of the identifier number of the tweet\n",
    "tweet.drop('id',axis=1,inplace=True)"
   ]
  },
  {
   "cell_type": "code",
   "execution_count": 5,
   "id": "3431f9e1",
   "metadata": {},
   "outputs": [
    {
     "name": "stdout",
     "output_type": "stream",
     "text": [
      "20602\n"
     ]
    },
    {
     "data": {
      "text/plain": [
       "'which fruit brings a smile to your face? #fruitlove #smile  '"
      ]
     },
     "execution_count": 5,
     "metadata": {},
     "output_type": "execute_result"
    }
   ],
   "source": [
    "#view one of the tweets randomly \n",
    "random = np.random.randint(0,len(tweet))\n",
    "print(random)\n",
    "tweet.iloc[random]['tweet']"
   ]
  },
  {
   "cell_type": "code",
   "execution_count": 6,
   "id": "41da7537",
   "metadata": {},
   "outputs": [],
   "source": [
    "#create a copy of the original data to work with \n",
    "df = tweet.copy()"
   ]
  },
  {
   "cell_type": "markdown",
   "id": "0672f738",
   "metadata": {},
   "source": [
    "# _Text Cleaning_"
   ]
  },
  {
   "cell_type": "markdown",
   "id": "edb45dad",
   "metadata": {},
   "source": [
    "### _Handle Diacritics using text normalization_"
   ]
  },
  {
   "cell_type": "code",
   "execution_count": 7,
   "id": "999d28c1",
   "metadata": {},
   "outputs": [],
   "source": [
    "def simplify(text):\n",
    "    '''Function to handle the diacritics in the text'''\n",
    "    import unicodedata\n",
    "    try:\n",
    "        text = unicode(text, 'utf-8')\n",
    "    except NameError:\n",
    "        pass\n",
    "    text = unicodedata.normalize('NFD', text).encode('ascii', 'ignore').decode(\"utf-8\")\n",
    "    return str(text)"
   ]
  },
  {
   "cell_type": "code",
   "execution_count": 8,
   "id": "5077b822",
   "metadata": {},
   "outputs": [
    {
     "data": {
      "text/plain": [
       "0     @user when a father is dysfunctional and is s...\n",
       "1    @user @user thanks for #lyft credit i can't us...\n",
       "2                                  bihday your majesty\n",
       "3    #model   i love u take with u all the time in ...\n",
       "4               factsguide: society now    #motivation\n",
       "Name: tweet, dtype: object"
      ]
     },
     "execution_count": 8,
     "metadata": {},
     "output_type": "execute_result"
    }
   ],
   "source": [
    "df['tweet'] = df['tweet'].apply(simplify)\n",
    "df['tweet'].head()"
   ]
  },
  {
   "cell_type": "markdown",
   "id": "88a4b2c1",
   "metadata": {},
   "source": [
    "### _Remove user handles_"
   ]
  },
  {
   "cell_type": "code",
   "execution_count": 9,
   "id": "3758da89",
   "metadata": {},
   "outputs": [
    {
     "data": {
      "text/plain": [
       "['@user1', '@user2', '@username3']"
      ]
     },
     "execution_count": 9,
     "metadata": {},
     "output_type": "execute_result"
    }
   ],
   "source": [
    "#test on a sample string\n",
    "sample = \"and @user1 i would like you to discuss with @user2 and then with @username3\"\n",
    "pattern = re.compile(r'@\\w+')\n",
    "re.findall(pattern,sample)"
   ]
  },
  {
   "cell_type": "code",
   "execution_count": 10,
   "id": "c6e04632",
   "metadata": {},
   "outputs": [
    {
     "data": {
      "text/plain": [
       "0          when a father is dysfunctional and is so sel...\n",
       "1          thanks for #lyft credit i can't use cause th...\n",
       "2                                      bihday your majesty\n",
       "3        #model   i love u take with u all the time in ...\n",
       "4                   factsguide: society now    #motivation\n",
       "                               ...                        \n",
       "31957                              ate  isz that youuu?ai \n",
       "31958      to see nina turner on the airwaves trying to...\n",
       "31959    listening to sad songs on a monday morning otw...\n",
       "31960     #sikh #temple vandalised in in #calgary, #wso...\n",
       "31961                          thank you  for you follow  \n",
       "Name: tweet, Length: 31962, dtype: object"
      ]
     },
     "execution_count": 10,
     "metadata": {},
     "output_type": "execute_result"
    }
   ],
   "source": [
    "#remove all the user handles --> strings starting with @\n",
    "df['tweet'].replace(r'@\\w+','',regex=True,inplace=True)\n",
    "df['tweet']"
   ]
  },
  {
   "cell_type": "markdown",
   "id": "c9f99bf1",
   "metadata": {},
   "source": [
    "### _Remove the urls_"
   ]
  },
  {
   "cell_type": "code",
   "execution_count": 11,
   "id": "a6c626df",
   "metadata": {},
   "outputs": [
    {
     "data": {
      "text/plain": [
       "['https://www.machinelearing.com', 'https://www.simple.com']"
      ]
     },
     "execution_count": 11,
     "metadata": {},
     "output_type": "execute_result"
    }
   ],
   "source": [
    "#test on a sample \n",
    "sample = \"https://www.machinelearing.com prakhar and https://www.simple.com\"\n",
    "pattern = re.compile(r'http\\S+')\n",
    "re.findall(pattern,sample)"
   ]
  },
  {
   "cell_type": "code",
   "execution_count": 12,
   "id": "8db123cd",
   "metadata": {},
   "outputs": [],
   "source": [
    "df['tweet'].replace(r'http\\S+','',regex=True,inplace=True)"
   ]
  },
  {
   "cell_type": "code",
   "execution_count": 13,
   "id": "f1681003",
   "metadata": {},
   "outputs": [
    {
     "data": {
      "text/plain": [
       "0          when a father is dysfunctional and is so sel...\n",
       "1          thanks for #lyft credit i can't use cause th...\n",
       "2                                      bihday your majesty\n",
       "3        #model   i love u take with u all the time in ...\n",
       "4                   factsguide: society now    #motivation\n",
       "                               ...                        \n",
       "31957                              ate  isz that youuu?ai \n",
       "31958      to see nina turner on the airwaves trying to...\n",
       "31959    listening to sad songs on a monday morning otw...\n",
       "31960     #sikh #temple vandalised in in #calgary, #wso...\n",
       "31961                          thank you  for you follow  \n",
       "Name: tweet, Length: 31962, dtype: object"
      ]
     },
     "execution_count": 13,
     "metadata": {},
     "output_type": "execute_result"
    }
   ],
   "source": [
    "df['tweet']"
   ]
  },
  {
   "cell_type": "markdown",
   "id": "c672ddd3",
   "metadata": {},
   "source": [
    "### _Tokenize using tweet tokenizer_"
   ]
  },
  {
   "cell_type": "code",
   "execution_count": 14,
   "id": "9b376649",
   "metadata": {},
   "outputs": [
    {
     "data": {
      "text/plain": [
       "['wonderfl', ':-)', 'when', 'are', 'you', 'coming', 'for', '#party']"
      ]
     },
     "execution_count": 14,
     "metadata": {},
     "output_type": "execute_result"
    }
   ],
   "source": [
    "#test on a sample text\n",
    "sample = 'wonderfl :-)  when are you coming for #party'\n",
    "tweet_tokenize = TweetTokenizer(preserve_case=True)\n",
    "tweet_tokenize.tokenize(sample)"
   ]
  },
  {
   "cell_type": "code",
   "execution_count": 15,
   "id": "cd077b5f",
   "metadata": {},
   "outputs": [],
   "source": [
    "#tokenize the tweets in the dataframe using TweetTokenizer\n",
    "tokenizer = TweetTokenizer(preserve_case=True)\n",
    "df['tweet'] = df['tweet'].apply(tokenizer.tokenize)"
   ]
  },
  {
   "cell_type": "code",
   "execution_count": 16,
   "id": "9e6a5557",
   "metadata": {},
   "outputs": [
    {
     "data": {
      "text/html": [
       "<div>\n",
       "<style scoped>\n",
       "    .dataframe tbody tr th:only-of-type {\n",
       "        vertical-align: middle;\n",
       "    }\n",
       "\n",
       "    .dataframe tbody tr th {\n",
       "        vertical-align: top;\n",
       "    }\n",
       "\n",
       "    .dataframe thead th {\n",
       "        text-align: right;\n",
       "    }\n",
       "</style>\n",
       "<table border=\"1\" class=\"dataframe\">\n",
       "  <thead>\n",
       "    <tr style=\"text-align: right;\">\n",
       "      <th></th>\n",
       "      <th>label</th>\n",
       "      <th>tweet</th>\n",
       "    </tr>\n",
       "  </thead>\n",
       "  <tbody>\n",
       "    <tr>\n",
       "      <th>0</th>\n",
       "      <td>0</td>\n",
       "      <td>[when, a, father, is, dysfunctional, and, is, ...</td>\n",
       "    </tr>\n",
       "    <tr>\n",
       "      <th>1</th>\n",
       "      <td>0</td>\n",
       "      <td>[thanks, for, #lyft, credit, i, can't, use, ca...</td>\n",
       "    </tr>\n",
       "    <tr>\n",
       "      <th>2</th>\n",
       "      <td>0</td>\n",
       "      <td>[bihday, your, majesty]</td>\n",
       "    </tr>\n",
       "    <tr>\n",
       "      <th>3</th>\n",
       "      <td>0</td>\n",
       "      <td>[#model, i, love, u, take, with, u, all, the, ...</td>\n",
       "    </tr>\n",
       "    <tr>\n",
       "      <th>4</th>\n",
       "      <td>0</td>\n",
       "      <td>[factsguide, :, society, now, #motivation]</td>\n",
       "    </tr>\n",
       "  </tbody>\n",
       "</table>\n",
       "</div>"
      ],
      "text/plain": [
       "   label                                              tweet\n",
       "0      0  [when, a, father, is, dysfunctional, and, is, ...\n",
       "1      0  [thanks, for, #lyft, credit, i, can't, use, ca...\n",
       "2      0                            [bihday, your, majesty]\n",
       "3      0  [#model, i, love, u, take, with, u, all, the, ...\n",
       "4      0         [factsguide, :, society, now, #motivation]"
      ]
     },
     "execution_count": 16,
     "metadata": {},
     "output_type": "execute_result"
    }
   ],
   "source": [
    "#view the tokenized tweets\n",
    "df.head()"
   ]
  },
  {
   "cell_type": "markdown",
   "id": "0d13d9c0",
   "metadata": {},
   "source": [
    "### _Remove Stopwords_\n",
    "_Append more words to be removed from the text - example rt and amp which occur very frequently_"
   ]
  },
  {
   "cell_type": "code",
   "execution_count": 17,
   "id": "dbd25d81",
   "metadata": {},
   "outputs": [],
   "source": [
    "stop_words = stopwords.words('english')\n",
    "\n",
    "#add additional stop words to be removed from the text\n",
    "additional_list = ['amp','rt','u',\"can't\",'ur']\n",
    "\n",
    "for words in additional_list:\n",
    "    stop_words.append(words)"
   ]
  },
  {
   "cell_type": "code",
   "execution_count": 18,
   "id": "c75728b1",
   "metadata": {},
   "outputs": [
    {
     "data": {
      "text/plain": [
       "[\"weren't\",\n",
       " 'won',\n",
       " \"won't\",\n",
       " 'wouldn',\n",
       " \"wouldn't\",\n",
       " 'amp',\n",
       " 'rt',\n",
       " 'u',\n",
       " \"can't\",\n",
       " 'ur']"
      ]
     },
     "execution_count": 18,
     "metadata": {},
     "output_type": "execute_result"
    }
   ],
   "source": [
    "stop_words[-10:]"
   ]
  },
  {
   "cell_type": "code",
   "execution_count": 19,
   "id": "a39ee1bc",
   "metadata": {},
   "outputs": [],
   "source": [
    "#remove stop words\n",
    "def remove_stopwords(text):\n",
    "    '''Function to remove the stop words from the text corpus'''\n",
    "    clean_text = [word for word in text if not word in stop_words]\n",
    "    return clean_text    "
   ]
  },
  {
   "cell_type": "code",
   "execution_count": 20,
   "id": "ec5b3472",
   "metadata": {},
   "outputs": [],
   "source": [
    "#remove the stop words from the tweets\n",
    "df['tweet'] = df['tweet'].apply(remove_stopwords)"
   ]
  },
  {
   "cell_type": "code",
   "execution_count": 21,
   "id": "7a67a9f8",
   "metadata": {},
   "outputs": [
    {
     "data": {
      "text/plain": [
       "0        [father, dysfunctional, selfish, drags, kids, ...\n",
       "1        [thanks, #lyft, credit, use, cause, offer, whe...\n",
       "2                                        [bihday, majesty]\n",
       "3                      [#model, love, take, time, !, !, !]\n",
       "4                    [factsguide, :, society, #motivation]\n",
       "                               ...                        \n",
       "31957                             [ate, isz, youuu, ?, ai]\n",
       "31958    [see, nina, turner, airwaves, trying, wrap, ma...\n",
       "31959    [listening, sad, songs, monday, morning, otw, ...\n",
       "31960    [#sikh, #temple, vandalised, #calgary, ,, #wso...\n",
       "31961                                      [thank, follow]\n",
       "Name: tweet, Length: 31962, dtype: object"
      ]
     },
     "execution_count": 21,
     "metadata": {},
     "output_type": "execute_result"
    }
   ],
   "source": [
    "df['tweet']"
   ]
  },
  {
   "cell_type": "markdown",
   "id": "9fc03227",
   "metadata": {},
   "source": [
    "### _Spelling corrections_"
   ]
  },
  {
   "cell_type": "code",
   "execution_count": 22,
   "id": "25ba93dd",
   "metadata": {},
   "outputs": [
    {
     "name": "stdout",
     "output_type": "stream",
     "text": [
      "Requirement already satisfied: textblob in d:\\ankonda\\lib\\site-packages (0.15.3)\n",
      "Requirement already satisfied: nltk>=3.1 in d:\\ankonda\\lib\\site-packages (from textblob) (3.6.5)\n",
      "Requirement already satisfied: click in d:\\ankonda\\lib\\site-packages (from nltk>=3.1->textblob) (8.0.3)\n",
      "Requirement already satisfied: joblib in d:\\ankonda\\lib\\site-packages (from nltk>=3.1->textblob) (1.1.0)\n",
      "Requirement already satisfied: regex>=2021.8.3 in d:\\ankonda\\lib\\site-packages (from nltk>=3.1->textblob) (2021.8.3)\n",
      "Requirement already satisfied: tqdm in d:\\ankonda\\lib\\site-packages (from nltk>=3.1->textblob) (4.62.3)\n",
      "Requirement already satisfied: colorama in d:\\ankonda\\lib\\site-packages (from click->nltk>=3.1->textblob) (0.4.4)\n",
      "Note: you may need to restart the kernel to use updated packages.\n"
     ]
    }
   ],
   "source": [
    "pip install textblob"
   ]
  },
  {
   "cell_type": "code",
   "execution_count": 23,
   "id": "26552715",
   "metadata": {},
   "outputs": [
    {
     "name": "stdout",
     "output_type": "stream",
     "text": [
      "amazing man you did it finally\n"
     ]
    }
   ],
   "source": [
    "#apply spelling correction on a sample text\n",
    "from textblob import TextBlob\n",
    "sample = 'amazng man you did it finallyy'\n",
    "txtblob = TextBlob(sample)\n",
    "corrected_text = txtblob.correct()\n",
    "print(corrected_text)"
   ]
  },
  {
   "cell_type": "code",
   "execution_count": 24,
   "id": "0fc3cac9",
   "metadata": {},
   "outputs": [],
   "source": [
    "#textblob expect a string to be passed and not a list of strings\n",
    "from textblob import TextBlob\n",
    "\n",
    "def spell_check(text):\n",
    "    '''Function to do spelling correction using '''\n",
    "    txtblob = TextBlob(text)\n",
    "    corrected_text = txtblob.correct()\n",
    "    return corrected_text"
   ]
  },
  {
   "cell_type": "markdown",
   "id": "16d230a3",
   "metadata": {},
   "source": [
    "### _Remove # symbols while retaining the text_"
   ]
  },
  {
   "cell_type": "code",
   "execution_count": 25,
   "id": "dd1ed2c1",
   "metadata": {},
   "outputs": [
    {
     "data": {
      "text/plain": [
       "'winner machine i am learning'"
      ]
     },
     "execution_count": 25,
     "metadata": {},
     "output_type": "execute_result"
    }
   ],
   "source": [
    "#try tremoving # symbols from a sample text\n",
    "sample = '#winner #machine i am learning'\n",
    "pattern = re.compile(r'#')\n",
    "re.sub(pattern,'',sample)"
   ]
  },
  {
   "cell_type": "code",
   "execution_count": 26,
   "id": "ae664c17",
   "metadata": {},
   "outputs": [],
   "source": [
    "def remove_hashsymbols(text):\n",
    "    '''Function to remove the hashtag symbol from the text'''\n",
    "    pattern = re.compile(r'#')\n",
    "    text = ' '.join(text)\n",
    "    clean_text = re.sub(pattern,'',text)\n",
    "    return tokenizer.tokenize(clean_text)   "
   ]
  },
  {
   "cell_type": "code",
   "execution_count": 27,
   "id": "a2cf9524",
   "metadata": {},
   "outputs": [],
   "source": [
    "df['tweet'] = df['tweet'].apply(remove_hashsymbols)"
   ]
  },
  {
   "cell_type": "code",
   "execution_count": 28,
   "id": "0c7482eb",
   "metadata": {},
   "outputs": [
    {
     "data": {
      "text/plain": [
       "0        [father, dysfunctional, selfish, drags, kids, ...\n",
       "1        [thanks, lyft, credit, use, cause, offer, whee...\n",
       "2                                        [bihday, majesty]\n",
       "3                       [model, love, take, time, !, !, !]\n",
       "4                     [factsguide, :, society, motivation]\n",
       "                               ...                        \n",
       "31957                             [ate, isz, youuu, ?, ai]\n",
       "31958    [see, nina, turner, airwaves, trying, wrap, ma...\n",
       "31959    [listening, sad, songs, monday, morning, otw, ...\n",
       "31960    [sikh, temple, vandalised, calgary, ,, wso, co...\n",
       "31961                                      [thank, follow]\n",
       "Name: tweet, Length: 31962, dtype: object"
      ]
     },
     "execution_count": 28,
     "metadata": {},
     "output_type": "execute_result"
    }
   ],
   "source": [
    "df['tweet']"
   ]
  },
  {
   "cell_type": "markdown",
   "id": "8ea7842d",
   "metadata": {},
   "source": [
    "### _Remove single and double length characters_"
   ]
  },
  {
   "cell_type": "code",
   "execution_count": 29,
   "id": "8fc994a2",
   "metadata": {},
   "outputs": [],
   "source": [
    "def rem_shortwords(text):\n",
    "    '''Function to remove the short words of length 1 and 2 characters'''\n",
    "    '''Arguments: \n",
    "       text: string\n",
    "       returns: string without containing words of length 1 and 2'''\n",
    "    lengths = [1,2]\n",
    "    new_text = ' '.join(text)\n",
    "    for word in text:\n",
    "        text = [word for word in tokenizer.tokenize(new_text) if not len(word) in lengths]\n",
    "        \n",
    "    return new_text       \n",
    "    "
   ]
  },
  {
   "cell_type": "code",
   "execution_count": 30,
   "id": "8d1c9cce",
   "metadata": {},
   "outputs": [],
   "source": [
    "df['tweet'] = df['tweet'].apply(rem_shortwords)"
   ]
  },
  {
   "cell_type": "code",
   "execution_count": 31,
   "id": "b25a555c",
   "metadata": {},
   "outputs": [
    {
     "data": {
      "text/html": [
       "<div>\n",
       "<style scoped>\n",
       "    .dataframe tbody tr th:only-of-type {\n",
       "        vertical-align: middle;\n",
       "    }\n",
       "\n",
       "    .dataframe tbody tr th {\n",
       "        vertical-align: top;\n",
       "    }\n",
       "\n",
       "    .dataframe thead th {\n",
       "        text-align: right;\n",
       "    }\n",
       "</style>\n",
       "<table border=\"1\" class=\"dataframe\">\n",
       "  <thead>\n",
       "    <tr style=\"text-align: right;\">\n",
       "      <th></th>\n",
       "      <th>label</th>\n",
       "      <th>tweet</th>\n",
       "    </tr>\n",
       "  </thead>\n",
       "  <tbody>\n",
       "    <tr>\n",
       "      <th>0</th>\n",
       "      <td>0</td>\n",
       "      <td>father dysfunctional selfish drags kids dysfun...</td>\n",
       "    </tr>\n",
       "    <tr>\n",
       "      <th>1</th>\n",
       "      <td>0</td>\n",
       "      <td>thanks lyft credit use cause offer wheelchair ...</td>\n",
       "    </tr>\n",
       "    <tr>\n",
       "      <th>2</th>\n",
       "      <td>0</td>\n",
       "      <td>bihday majesty</td>\n",
       "    </tr>\n",
       "    <tr>\n",
       "      <th>3</th>\n",
       "      <td>0</td>\n",
       "      <td>model love take time ! ! !</td>\n",
       "    </tr>\n",
       "    <tr>\n",
       "      <th>4</th>\n",
       "      <td>0</td>\n",
       "      <td>factsguide : society motivation</td>\n",
       "    </tr>\n",
       "  </tbody>\n",
       "</table>\n",
       "</div>"
      ],
      "text/plain": [
       "   label                                              tweet\n",
       "0      0  father dysfunctional selfish drags kids dysfun...\n",
       "1      0  thanks lyft credit use cause offer wheelchair ...\n",
       "2      0                                     bihday majesty\n",
       "3      0                         model love take time ! ! !\n",
       "4      0                    factsguide : society motivation"
      ]
     },
     "execution_count": 31,
     "metadata": {},
     "output_type": "execute_result"
    }
   ],
   "source": [
    "df.head()"
   ]
  },
  {
   "cell_type": "code",
   "execution_count": 32,
   "id": "5bb3cf4e",
   "metadata": {},
   "outputs": [],
   "source": [
    "df['tweet'] = df['tweet'].apply(tokenizer.tokenize)"
   ]
  },
  {
   "cell_type": "code",
   "execution_count": 33,
   "id": "754f61a5",
   "metadata": {},
   "outputs": [
    {
     "data": {
      "text/html": [
       "<div>\n",
       "<style scoped>\n",
       "    .dataframe tbody tr th:only-of-type {\n",
       "        vertical-align: middle;\n",
       "    }\n",
       "\n",
       "    .dataframe tbody tr th {\n",
       "        vertical-align: top;\n",
       "    }\n",
       "\n",
       "    .dataframe thead th {\n",
       "        text-align: right;\n",
       "    }\n",
       "</style>\n",
       "<table border=\"1\" class=\"dataframe\">\n",
       "  <thead>\n",
       "    <tr style=\"text-align: right;\">\n",
       "      <th></th>\n",
       "      <th>label</th>\n",
       "      <th>tweet</th>\n",
       "    </tr>\n",
       "  </thead>\n",
       "  <tbody>\n",
       "    <tr>\n",
       "      <th>0</th>\n",
       "      <td>0</td>\n",
       "      <td>[father, dysfunctional, selfish, drags, kids, ...</td>\n",
       "    </tr>\n",
       "    <tr>\n",
       "      <th>1</th>\n",
       "      <td>0</td>\n",
       "      <td>[thanks, lyft, credit, use, cause, offer, whee...</td>\n",
       "    </tr>\n",
       "    <tr>\n",
       "      <th>2</th>\n",
       "      <td>0</td>\n",
       "      <td>[bihday, majesty]</td>\n",
       "    </tr>\n",
       "    <tr>\n",
       "      <th>3</th>\n",
       "      <td>0</td>\n",
       "      <td>[model, love, take, time, !, !, !]</td>\n",
       "    </tr>\n",
       "    <tr>\n",
       "      <th>4</th>\n",
       "      <td>0</td>\n",
       "      <td>[factsguide, :, society, motivation]</td>\n",
       "    </tr>\n",
       "  </tbody>\n",
       "</table>\n",
       "</div>"
      ],
      "text/plain": [
       "   label                                              tweet\n",
       "0      0  [father, dysfunctional, selfish, drags, kids, ...\n",
       "1      0  [thanks, lyft, credit, use, cause, offer, whee...\n",
       "2      0                                  [bihday, majesty]\n",
       "3      0                 [model, love, take, time, !, !, !]\n",
       "4      0               [factsguide, :, society, motivation]"
      ]
     },
     "execution_count": 33,
     "metadata": {},
     "output_type": "execute_result"
    }
   ],
   "source": [
    "df.head()"
   ]
  },
  {
   "cell_type": "markdown",
   "id": "af09bcd7",
   "metadata": {},
   "source": [
    "### _Remove digits_"
   ]
  },
  {
   "cell_type": "code",
   "execution_count": 34,
   "id": "a2731c42",
   "metadata": {},
   "outputs": [],
   "source": [
    "def rem_digits(text):\n",
    "    '''Function to remove the digits from the list of strings'''\n",
    "    no_digits = []\n",
    "    for word in text:\n",
    "        no_digits.append(re.sub(r'\\d','',word))\n",
    "    return ' '.join(no_digits)   "
   ]
  },
  {
   "cell_type": "code",
   "execution_count": 35,
   "id": "1c831549",
   "metadata": {},
   "outputs": [],
   "source": [
    "df['tweet'] = df['tweet'].apply(rem_digits)"
   ]
  },
  {
   "cell_type": "code",
   "execution_count": 36,
   "id": "a8f8a26a",
   "metadata": {},
   "outputs": [],
   "source": [
    "df['tweet'] = df['tweet'].apply(tokenizer.tokenize)"
   ]
  },
  {
   "cell_type": "code",
   "execution_count": 37,
   "id": "287e3865",
   "metadata": {},
   "outputs": [
    {
     "data": {
      "text/html": [
       "<div>\n",
       "<style scoped>\n",
       "    .dataframe tbody tr th:only-of-type {\n",
       "        vertical-align: middle;\n",
       "    }\n",
       "\n",
       "    .dataframe tbody tr th {\n",
       "        vertical-align: top;\n",
       "    }\n",
       "\n",
       "    .dataframe thead th {\n",
       "        text-align: right;\n",
       "    }\n",
       "</style>\n",
       "<table border=\"1\" class=\"dataframe\">\n",
       "  <thead>\n",
       "    <tr style=\"text-align: right;\">\n",
       "      <th></th>\n",
       "      <th>label</th>\n",
       "      <th>tweet</th>\n",
       "    </tr>\n",
       "  </thead>\n",
       "  <tbody>\n",
       "    <tr>\n",
       "      <th>0</th>\n",
       "      <td>0</td>\n",
       "      <td>[father, dysfunctional, selfish, drags, kids, ...</td>\n",
       "    </tr>\n",
       "    <tr>\n",
       "      <th>1</th>\n",
       "      <td>0</td>\n",
       "      <td>[thanks, lyft, credit, use, cause, offer, whee...</td>\n",
       "    </tr>\n",
       "    <tr>\n",
       "      <th>2</th>\n",
       "      <td>0</td>\n",
       "      <td>[bihday, majesty]</td>\n",
       "    </tr>\n",
       "    <tr>\n",
       "      <th>3</th>\n",
       "      <td>0</td>\n",
       "      <td>[model, love, take, time, !, !, !]</td>\n",
       "    </tr>\n",
       "    <tr>\n",
       "      <th>4</th>\n",
       "      <td>0</td>\n",
       "      <td>[factsguide, :, society, motivation]</td>\n",
       "    </tr>\n",
       "  </tbody>\n",
       "</table>\n",
       "</div>"
      ],
      "text/plain": [
       "   label                                              tweet\n",
       "0      0  [father, dysfunctional, selfish, drags, kids, ...\n",
       "1      0  [thanks, lyft, credit, use, cause, offer, whee...\n",
       "2      0                                  [bihday, majesty]\n",
       "3      0                 [model, love, take, time, !, !, !]\n",
       "4      0               [factsguide, :, society, motivation]"
      ]
     },
     "execution_count": 37,
     "metadata": {},
     "output_type": "execute_result"
    }
   ],
   "source": [
    "df.head()"
   ]
  },
  {
   "cell_type": "code",
   "execution_count": 38,
   "id": "d5c51157",
   "metadata": {},
   "outputs": [],
   "source": [
    "def rem_nonalpha(text):\n",
    "    '''Function to remove the non-alphanumeric characters from the text'''\n",
    "    text = [word for word in text if word.isalpha()]\n",
    "    return text"
   ]
  },
  {
   "cell_type": "code",
   "execution_count": 39,
   "id": "2f65f7db",
   "metadata": {},
   "outputs": [],
   "source": [
    "#remove the non alpha numeric characters from the tweet tokens\n",
    "df['tweet'] = df['tweet'].apply(rem_nonalpha)"
   ]
  },
  {
   "cell_type": "markdown",
   "id": "9bf78580",
   "metadata": {},
   "source": [
    "## _Exploratory Data Analysis - Broad Approach_"
   ]
  },
  {
   "cell_type": "markdown",
   "id": "29ac7189",
   "metadata": {},
   "source": [
    "### _Check for data balance_"
   ]
  },
  {
   "cell_type": "code",
   "execution_count": 40,
   "id": "c4b4c8dd",
   "metadata": {},
   "outputs": [
    {
     "data": {
      "image/png": "[encoded data removed]",
      "text/plain": [
       "<Figure size 864x360 with 1 Axes>"
      ]
     },
     "metadata": {
      "needs_background": "light"
     },
     "output_type": "display_data"
    }
   ],
   "source": [
    "#plot of the count of hate and non hate tweet\n",
    "sns.countplot(df['label'])\n",
    "plt.title('Count of Hate vs Non Hate Tweet')\n",
    "plt.grid()\n",
    "plt.show()"
   ]
  },
  {
   "cell_type": "markdown",
   "id": "f8cb9172",
   "metadata": {},
   "source": [
    "_There are more non hatespeeches than the hatespeech in the dataset_"
   ]
  },
  {
   "cell_type": "markdown",
   "id": "456ded06",
   "metadata": {},
   "source": [
    "### _Check out the top terms in the tweets_"
   ]
  },
  {
   "cell_type": "code",
   "execution_count": 41,
   "id": "12ebba01",
   "metadata": {},
   "outputs": [
    {
     "name": "stdout",
     "output_type": "stream",
     "text": [
      "[('love', 2762), ('day', 2319), ('happy', 1679), ('like', 1160), ('time', 1138), ('life', 1124), ('today', 1017), ('new', 994), ('thankful', 947), ('positive', 931)]\n"
     ]
    }
   ],
   "source": [
    "from collections import Counter\n",
    "results = Counter()\n",
    "df['tweet'].apply(results.update)\n",
    "#print the top 10 most common terms in the tweet \n",
    "print(results.most_common(10))"
   ]
  },
  {
   "cell_type": "code",
   "execution_count": 42,
   "id": "99634d31",
   "metadata": {},
   "outputs": [
    {
     "data": {
      "image/png": "[encoded data removed]",
      "text/plain": [
       "<Figure size 864x360 with 1 Axes>"
      ]
     },
     "metadata": {
      "needs_background": "light"
     },
     "output_type": "display_data"
    }
   ],
   "source": [
    "#plot the cumulative frequency of the top 10 most common tokens \n",
    "frequency = nltk.FreqDist(results)\n",
    "plt.title('Top 10 Most Common Terms')\n",
    "frequency.plot(10,cumulative=True)\n",
    "plt.show()"
   ]
  },
  {
   "cell_type": "code",
   "execution_count": 43,
   "id": "beaf1d02",
   "metadata": {},
   "outputs": [
    {
     "data": {
      "image/png": "[encoded data removed]",
      "text/plain": [
       "<Figure size 864x360 with 1 Axes>"
      ]
     },
     "metadata": {
      "needs_background": "light"
     },
     "output_type": "display_data"
    }
   ],
   "source": [
    "#plot the frequency of the top 10 most common tokens \n",
    "frequency = nltk.FreqDist(results)\n",
    "plt.title('Top 10 Most Common Terms')\n",
    "frequency.plot(10,cumulative=False)\n",
    "plt.show()"
   ]
  },
  {
   "cell_type": "markdown",
   "id": "9ca2a75c",
   "metadata": {},
   "source": [
    "_Love is the most frequently used word followed by day, happy etc. This is expected as there are more non hate tweets than hate tweets in the dataset_"
   ]
  },
  {
   "cell_type": "markdown",
   "id": "08fcab5d",
   "metadata": {},
   "source": [
    "## _Predictive Modeling_"
   ]
  },
  {
   "cell_type": "markdown",
   "id": "cbc673e9",
   "metadata": {},
   "source": [
    "### _Data Formatting for Predictive Modeling_"
   ]
  },
  {
   "cell_type": "code",
   "execution_count": 44,
   "id": "cf16d2b6",
   "metadata": {},
   "outputs": [
    {
     "data": {
      "text/html": [
       "<div>\n",
       "<style scoped>\n",
       "    .dataframe tbody tr th:only-of-type {\n",
       "        vertical-align: middle;\n",
       "    }\n",
       "\n",
       "    .dataframe tbody tr th {\n",
       "        vertical-align: top;\n",
       "    }\n",
       "\n",
       "    .dataframe thead th {\n",
       "        text-align: right;\n",
       "    }\n",
       "</style>\n",
       "<table border=\"1\" class=\"dataframe\">\n",
       "  <thead>\n",
       "    <tr style=\"text-align: right;\">\n",
       "      <th></th>\n",
       "      <th>label</th>\n",
       "      <th>tweet</th>\n",
       "    </tr>\n",
       "  </thead>\n",
       "  <tbody>\n",
       "    <tr>\n",
       "      <th>0</th>\n",
       "      <td>0</td>\n",
       "      <td>[father, dysfunctional, selfish, drags, kids, ...</td>\n",
       "    </tr>\n",
       "    <tr>\n",
       "      <th>1</th>\n",
       "      <td>0</td>\n",
       "      <td>[thanks, lyft, credit, use, cause, offer, whee...</td>\n",
       "    </tr>\n",
       "    <tr>\n",
       "      <th>2</th>\n",
       "      <td>0</td>\n",
       "      <td>[bihday, majesty]</td>\n",
       "    </tr>\n",
       "    <tr>\n",
       "      <th>3</th>\n",
       "      <td>0</td>\n",
       "      <td>[model, love, take, time]</td>\n",
       "    </tr>\n",
       "    <tr>\n",
       "      <th>4</th>\n",
       "      <td>0</td>\n",
       "      <td>[factsguide, society, motivation]</td>\n",
       "    </tr>\n",
       "  </tbody>\n",
       "</table>\n",
       "</div>"
      ],
      "text/plain": [
       "   label                                              tweet\n",
       "0      0  [father, dysfunctional, selfish, drags, kids, ...\n",
       "1      0  [thanks, lyft, credit, use, cause, offer, whee...\n",
       "2      0                                  [bihday, majesty]\n",
       "3      0                          [model, love, take, time]\n",
       "4      0                  [factsguide, society, motivation]"
      ]
     },
     "execution_count": 44,
     "metadata": {},
     "output_type": "execute_result"
    }
   ],
   "source": [
    "df.head()"
   ]
  },
  {
   "cell_type": "code",
   "execution_count": 45,
   "id": "9b90d5e3",
   "metadata": {},
   "outputs": [
    {
     "data": {
      "text/plain": [
       "label    0\n",
       "tweet    0\n",
       "dtype: int64"
      ]
     },
     "execution_count": 45,
     "metadata": {},
     "output_type": "execute_result"
    }
   ],
   "source": [
    "#check for the null values\n",
    "df.isnull().sum()"
   ]
  },
  {
   "cell_type": "code",
   "execution_count": 46,
   "id": "f0f21316",
   "metadata": {},
   "outputs": [],
   "source": [
    "#join the tokens back to form the string\n",
    "df['tweet'] = df['tweet'].apply(lambda x: ' '.join(x))"
   ]
  },
  {
   "cell_type": "code",
   "execution_count": 47,
   "id": "796e85b7",
   "metadata": {},
   "outputs": [
    {
     "data": {
      "text/html": [
       "<div>\n",
       "<style scoped>\n",
       "    .dataframe tbody tr th:only-of-type {\n",
       "        vertical-align: middle;\n",
       "    }\n",
       "\n",
       "    .dataframe tbody tr th {\n",
       "        vertical-align: top;\n",
       "    }\n",
       "\n",
       "    .dataframe thead th {\n",
       "        text-align: right;\n",
       "    }\n",
       "</style>\n",
       "<table border=\"1\" class=\"dataframe\">\n",
       "  <thead>\n",
       "    <tr style=\"text-align: right;\">\n",
       "      <th></th>\n",
       "      <th>label</th>\n",
       "      <th>tweet</th>\n",
       "    </tr>\n",
       "  </thead>\n",
       "  <tbody>\n",
       "    <tr>\n",
       "      <th>0</th>\n",
       "      <td>0</td>\n",
       "      <td>father dysfunctional selfish drags kids dysfun...</td>\n",
       "    </tr>\n",
       "    <tr>\n",
       "      <th>1</th>\n",
       "      <td>0</td>\n",
       "      <td>thanks lyft credit use cause offer wheelchair ...</td>\n",
       "    </tr>\n",
       "    <tr>\n",
       "      <th>2</th>\n",
       "      <td>0</td>\n",
       "      <td>bihday majesty</td>\n",
       "    </tr>\n",
       "  </tbody>\n",
       "</table>\n",
       "</div>"
      ],
      "text/plain": [
       "   label                                              tweet\n",
       "0      0  father dysfunctional selfish drags kids dysfun...\n",
       "1      0  thanks lyft credit use cause offer wheelchair ...\n",
       "2      0                                     bihday majesty"
      ]
     },
     "execution_count": 47,
     "metadata": {},
     "output_type": "execute_result"
    }
   ],
   "source": [
    "#check the top rows\n",
    "df.head(3)"
   ]
  },
  {
   "cell_type": "code",
   "execution_count": 48,
   "id": "e01d2a71",
   "metadata": {},
   "outputs": [],
   "source": [
    "#split the data into input X and output y\n",
    "X = df['tweet']\n",
    "y = df['label']"
   ]
  },
  {
   "cell_type": "code",
   "execution_count": 49,
   "id": "54fc599b",
   "metadata": {},
   "outputs": [
    {
     "name": "stdout",
     "output_type": "stream",
     "text": [
      "(25569,) (6393,) (25569,) (6393,)\n"
     ]
    }
   ],
   "source": [
    "#split the data \n",
    "from sklearn.model_selection import train_test_split\n",
    "seed = 51\n",
    "test_size = 0.2 #20% of the data in the \n",
    "X_train,X_test,y_train,y_test = train_test_split(X,y,test_size=0.2,random_state=seed,stratify=df['label'])\n",
    "print(X_train.shape,X_test.shape,y_train.shape,y_test.shape)"
   ]
  },
  {
   "cell_type": "markdown",
   "id": "4cf61dc6",
   "metadata": {},
   "source": [
    "### _Use tf-idf as a feature to get into the vector space model_"
   ]
  },
  {
   "cell_type": "code",
   "execution_count": 50,
   "id": "21883ef5",
   "metadata": {},
   "outputs": [],
   "source": [
    "#import tfidf vectorizer\n",
    "from sklearn.feature_extraction.text import TfidfVectorizer\n",
    "from sklearn.feature_extraction.text import TfidfTransformer"
   ]
  },
  {
   "cell_type": "code",
   "execution_count": 51,
   "id": "09615879",
   "metadata": {},
   "outputs": [],
   "source": [
    "#instantiate the vectorizer \n",
    "vectorizer = TfidfVectorizer(max_features=5000)"
   ]
  },
  {
   "cell_type": "code",
   "execution_count": 52,
   "id": "88a9c78b",
   "metadata": {},
   "outputs": [],
   "source": [
    "#fit on the training data\n",
    "X_train = vectorizer.fit_transform(X_train)\n",
    "#transform the test data\n",
    "X_test = vectorizer.transform(X_test)"
   ]
  },
  {
   "cell_type": "code",
   "execution_count": 53,
   "id": "5dae9459",
   "metadata": {},
   "outputs": [
    {
     "data": {
      "text/plain": [
       "((25569, 5000), (6393, 5000))"
      ]
     },
     "execution_count": 53,
     "metadata": {},
     "output_type": "execute_result"
    }
   ],
   "source": [
    "#check the shape\n",
    "X_train.shape, X_test.shape"
   ]
  },
  {
   "cell_type": "markdown",
   "id": "bcbef3ab",
   "metadata": {},
   "source": [
    "### _Model building: Ordinary Logistic Regression_"
   ]
  },
  {
   "cell_type": "code",
   "execution_count": 54,
   "id": "437ff0a7",
   "metadata": {},
   "outputs": [],
   "source": [
    "#import the models\n",
    "from sklearn.linear_model import LogisticRegression\n",
    "from sklearn.naive_bayes import MultinomialNB"
   ]
  },
  {
   "cell_type": "code",
   "execution_count": 55,
   "id": "3012d5b9",
   "metadata": {},
   "outputs": [],
   "source": [
    "#instantiate the models with default hyper-parameters\n",
    "clf = LogisticRegression()\n",
    "clf.fit(X_train,y_train)\n",
    "train_predictions = clf.predict(X_train)\n",
    "test_predictions = clf.predict(X_test)"
   ]
  },
  {
   "cell_type": "markdown",
   "id": "be40a673",
   "metadata": {},
   "source": [
    "### _Model evaluation_"
   ]
  },
  {
   "cell_type": "code",
   "execution_count": 56,
   "id": "aa0b5672",
   "metadata": {},
   "outputs": [],
   "source": [
    "#import the metrics\n",
    "from sklearn.metrics import accuracy_score\n",
    "from sklearn.metrics import f1_score\n",
    "from sklearn.metrics import classification_report\n",
    "from sklearn.metrics import confusion_matrix"
   ]
  },
  {
   "cell_type": "code",
   "execution_count": 57,
   "id": "767e92bb",
   "metadata": {},
   "outputs": [
    {
     "name": "stdout",
     "output_type": "stream",
     "text": [
      "Accuracy Score on training set 0.95569\n",
      "Accuracy Score on test set 0.94791\n"
     ]
    }
   ],
   "source": [
    "#get the model accuracy on the training and the test set\n",
    "print('Accuracy Score on training set %.5f' %accuracy_score(y_train,train_predictions))\n",
    "print('Accuracy Score on test set %.5f' %accuracy_score(y_test,test_predictions))"
   ]
  },
  {
   "cell_type": "markdown",
   "id": "74d74183",
   "metadata": {},
   "source": [
    "_Accuracy is never a good metric for an imbalanced dataset as in this case. This can be highighted using the f1 score. A low f1-score for a label indicate poor performance of the model._"
   ]
  },
  {
   "cell_type": "code",
   "execution_count": 58,
   "id": "739a8733",
   "metadata": {},
   "outputs": [
    {
     "name": "stdout",
     "output_type": "stream",
     "text": [
      "Classification Report Training set\n",
      "\n",
      "\n",
      "              precision    recall  f1-score   support\n",
      "\n",
      "           0       0.96      1.00      0.98     23775\n",
      "           1       0.95      0.39      0.55      1794\n",
      "\n",
      "    accuracy                           0.96     25569\n",
      "   macro avg       0.95      0.69      0.76     25569\n",
      "weighted avg       0.96      0.96      0.95     25569\n",
      "\n"
     ]
    }
   ],
   "source": [
    "print('Classification Report Training set')\n",
    "print('\\n')\n",
    "print(classification_report(y_train,train_predictions))"
   ]
  },
  {
   "cell_type": "code",
   "execution_count": 59,
   "id": "33fdfe90",
   "metadata": {},
   "outputs": [
    {
     "name": "stdout",
     "output_type": "stream",
     "text": [
      "Classification Report Testing set\n",
      "\n",
      "\n",
      "              precision    recall  f1-score   support\n",
      "\n",
      "           0       0.95      1.00      0.97      5945\n",
      "           1       0.90      0.29      0.44       448\n",
      "\n",
      "    accuracy                           0.95      6393\n",
      "   macro avg       0.93      0.64      0.70      6393\n",
      "weighted avg       0.95      0.95      0.94      6393\n",
      "\n"
     ]
    }
   ],
   "source": [
    "print('Classification Report Testing set')\n",
    "print('\\n')\n",
    "print(classification_report(y_test,test_predictions))"
   ]
  },
  {
   "cell_type": "markdown",
   "id": "fef8d74e",
   "metadata": {},
   "source": [
    "_The model's f1-score is low for label 1 which indicates the hate text in the twitter_"
   ]
  },
  {
   "cell_type": "code",
   "execution_count": 60,
   "id": "2baef9fc",
   "metadata": {},
   "outputs": [
    {
     "data": {
      "text/plain": [
       "0    29720\n",
       "1     2242\n",
       "Name: label, dtype: int64"
      ]
     },
     "execution_count": 60,
     "metadata": {},
     "output_type": "execute_result"
    }
   ],
   "source": [
    "df['label'].value_counts()"
   ]
  },
  {
   "cell_type": "markdown",
   "id": "8d089555",
   "metadata": {},
   "source": [
    "_The minority to majority class ratio is 1:13_"
   ]
  },
  {
   "cell_type": "code",
   "execution_count": 61,
   "id": "0bb2b438",
   "metadata": {},
   "outputs": [
    {
     "name": "stdout",
     "output_type": "stream",
     "text": [
      "Classification Report Training set\n",
      "------------------------------------\n",
      "\n",
      "\n",
      "              precision    recall  f1-score   support\n",
      "\n",
      "           0       1.00      0.95      0.97     23775\n",
      "           1       0.60      0.98      0.74      1794\n",
      "\n",
      "    accuracy                           0.95     25569\n",
      "   macro avg       0.80      0.96      0.86     25569\n",
      "weighted avg       0.97      0.95      0.96     25569\n",
      "\n",
      "\n",
      "\n",
      "Classification Report Testing set\n",
      "------------------------------------\n",
      "\n",
      "\n",
      "              precision    recall  f1-score   support\n",
      "\n",
      "           0       0.98      0.94      0.96      5945\n",
      "           1       0.48      0.75      0.58       448\n",
      "\n",
      "    accuracy                           0.92      6393\n",
      "   macro avg       0.73      0.84      0.77      6393\n",
      "weighted avg       0.94      0.92      0.93      6393\n",
      "\n"
     ]
    }
   ],
   "source": [
    "#define the weight of the class labels using inverse ratio\n",
    "weights = {0:1.0,1:13.0}\n",
    "\n",
    "#instantiate the logistic regression model and account for the weights to be applied for model coefficients update magnitude\n",
    "clf = LogisticRegression(solver='lbfgs',class_weight=weights)\n",
    "\n",
    "#fit and predict\n",
    "clf.fit(X_train,y_train)\n",
    "train_predictions = clf.predict(X_train)\n",
    "test_predictions = clf.predict(X_test)\n",
    "\n",
    "#classification report\n",
    "print('Classification Report Training set')\n",
    "print('------------------------------------')\n",
    "print('\\n')\n",
    "print(classification_report(y_train,train_predictions))\n",
    "print('\\n')\n",
    "\n",
    "print('Classification Report Testing set')\n",
    "print('------------------------------------')\n",
    "print('\\n')\n",
    "print(classification_report(y_test,test_predictions))"
   ]
  },
  {
   "cell_type": "markdown",
   "id": "6bede946",
   "metadata": {},
   "source": [
    "_The f1 score of both the training and testing set has improved compared to the plain vanilla Logistic Regression model. There is still more opportunity to improve the score using better models or even handling the data imbalance by adding synthetic data_"
   ]
  },
  {
   "cell_type": "markdown",
   "id": "c99d7fae",
   "metadata": {},
   "source": [
    "### _Regularization and Hyperparameter tuning:_"
   ]
  },
  {
   "cell_type": "code",
   "execution_count": 62,
   "id": "e433ea20",
   "metadata": {},
   "outputs": [],
   "source": [
    "#import the required libraries for grid search\n",
    "from sklearn.model_selection import RandomizedSearchCV\n",
    "from sklearn.model_selection import StratifiedKFold\n",
    "from sklearn.model_selection import cross_val_score"
   ]
  },
  {
   "cell_type": "code",
   "execution_count": 63,
   "id": "34b36ee2",
   "metadata": {},
   "outputs": [],
   "source": [
    "# define search space\n",
    "from scipy.stats import loguniform\n",
    "space = dict()\n",
    "space['solver'] = ['newton-cg', 'lbfgs', 'liblinear']\n",
    "space['penalty'] = ['l1', 'l2', 'elasticnet']\n",
    "space['C'] = loguniform(1e-5, 100)"
   ]
  },
  {
   "cell_type": "code",
   "execution_count": 64,
   "id": "4c9045b6",
   "metadata": {},
   "outputs": [
    {
     "name": "stdout",
     "output_type": "stream",
     "text": [
      "{'solver': ['newton-cg', 'lbfgs', 'liblinear'], 'penalty': ['l1', 'l2', 'elasticnet'], 'C': <scipy.stats._distn_infrastructure.rv_frozen object at 0x0000028DA22795E0>}\n"
     ]
    }
   ],
   "source": [
    "#check the search space \n",
    "print(space)"
   ]
  },
  {
   "cell_type": "markdown",
   "id": "2f7b98f9",
   "metadata": {},
   "source": [
    "### _Fine tuned Model with Balanced Class Weights_"
   ]
  },
  {
   "cell_type": "code",
   "execution_count": 75,
   "id": "b8bcca34",
   "metadata": {},
   "outputs": [
    {
     "name": "stderr",
     "output_type": "stream",
     "text": [
      "D:\\ankonda\\lib\\site-packages\\sklearn\\model_selection\\_search.py:922: UserWarning: One or more of the test scores are non-finite: [0.55851421 0.         0.03121271 0.         0.60255429        nan\n",
      "        nan        nan        nan 0.                nan        nan\n",
      "        nan 0.                nan        nan 0.41918922        nan\n",
      "        nan        nan        nan        nan 0.0590884  0.\n",
      " 0.         0.         0.                nan 0.34393891        nan\n",
      " 0.35898848        nan 0.         0.         0.40804591        nan\n",
      " 0.57300698 0.54848199 0.56687729 0.23189553 0.47491201        nan\n",
      "        nan        nan 0.         0.56687729        nan 0.05407851\n",
      "        nan        nan        nan        nan        nan 0.\n",
      " 0.                nan        nan 0.16054774 0.41473239 0.56575873\n",
      "        nan        nan        nan        nan        nan        nan\n",
      "        nan 0.56074138        nan 0.                nan        nan\n",
      "        nan        nan 0.         0.                nan        nan\n",
      "        nan        nan 0.         0.         0.50891241 0.\n",
      "        nan        nan        nan 0.55962779        nan        nan\n",
      " 0.11316069        nan 0.         0.         0.         0.56353156\n",
      "        nan 0.         0.14271297 0.        ]\n",
      "  warnings.warn(\n"
     ]
    }
   ],
   "source": [
    "#define the model with balanced class weights\n",
    "weights = {0:1.0,1:1.0}\n",
    "clf = LogisticRegression(class_weight=weights)\n",
    "#define the number of folds \n",
    "folds = StratifiedKFold(n_splits=4,shuffle=False)\n",
    "# define search\n",
    "grid_search = RandomizedSearchCV(estimator=clf,param_distributions=space, n_iter=100, scoring='recall',\n",
    "                            n_jobs=-1, cv=folds)\n",
    "#fit grid search on the train data\n",
    "grid_result = grid_search.fit(X_train,y_train)"
   ]
  },
  {
   "cell_type": "code",
   "execution_count": 76,
   "id": "fcd10978",
   "metadata": {},
   "outputs": [
    {
     "data": {
      "text/plain": [
       "LogisticRegression(C=25.7271952320296, class_weight={0: 1.0, 1: 1.0},\n",
       "                   penalty='l1', solver='liblinear')"
      ]
     },
     "execution_count": 76,
     "metadata": {},
     "output_type": "execute_result"
    }
   ],
   "source": [
    "#retrieve the best model \n",
    "grid_result.best_estimator_"
   ]
  },
  {
   "cell_type": "code",
   "execution_count": 77,
   "id": "107c826b",
   "metadata": {},
   "outputs": [],
   "source": [
    "#instantiate the best model\n",
    "clf = LogisticRegression(C=23.871926754399514,penalty='l1',solver='liblinear',class_weight=weights)"
   ]
  },
  {
   "cell_type": "code",
   "execution_count": 78,
   "id": "d8e2b080",
   "metadata": {},
   "outputs": [
    {
     "name": "stdout",
     "output_type": "stream",
     "text": [
      "Classification Report Training set\n",
      "------------------------------------\n",
      "\n",
      "\n",
      "              precision    recall  f1-score   support\n",
      "\n",
      "           0       0.99      1.00      1.00     23775\n",
      "           1       0.98      0.93      0.95      1794\n",
      "\n",
      "    accuracy                           0.99     25569\n",
      "   macro avg       0.99      0.96      0.97     25569\n",
      "weighted avg       0.99      0.99      0.99     25569\n",
      "\n",
      "\n",
      "\n",
      "Classification Report Testing set\n",
      "------------------------------------\n",
      "\n",
      "\n",
      "              precision    recall  f1-score   support\n",
      "\n",
      "           0       0.97      0.97      0.97      5945\n",
      "           1       0.62      0.56      0.59       448\n",
      "\n",
      "    accuracy                           0.94      6393\n",
      "   macro avg       0.79      0.77      0.78      6393\n",
      "weighted avg       0.94      0.94      0.94      6393\n",
      "\n"
     ]
    }
   ],
   "source": [
    "#fit and predict\n",
    "clf.fit(X_train,y_train)\n",
    "train_predictions = clf.predict(X_train)\n",
    "test_predictions = clf.predict(X_test)\n",
    "\n",
    "#classification report\n",
    "print('Classification Report Training set')\n",
    "print('------------------------------------')\n",
    "print('\\n')\n",
    "print(classification_report(y_train,train_predictions))\n",
    "print('\\n')\n",
    "\n",
    "print('Classification Report Testing set')\n",
    "print('------------------------------------')\n",
    "print('\\n')\n",
    "print(classification_report(y_test,test_predictions))"
   ]
  },
  {
   "cell_type": "markdown",
   "id": "d3c03ffc",
   "metadata": {},
   "source": [
    "### _Fine tuned model with class weights proportional to the class imbalance_"
   ]
  },
  {
   "cell_type": "code",
   "execution_count": 84,
   "id": "fff4f271",
   "metadata": {},
   "outputs": [
    {
     "name": "stderr",
     "output_type": "stream",
     "text": [
      "D:\\ankonda\\lib\\site-packages\\sklearn\\model_selection\\_search.py:922: UserWarning: One or more of the test scores are non-finite: [0.6872825  0.         0.62877327        nan        nan        nan\n",
      " 0.66609827        nan        nan 0.71013711        nan        nan\n",
      "        nan 0.67057499 0.13880424        nan        nan 0.69453075\n",
      " 0.                nan        nan        nan 0.                nan\n",
      " 0.70735315        nan        nan 0.75195623        nan 0.\n",
      "        nan        nan 0.71403963        nan        nan 0.72017678\n",
      " 0.64438087        nan 0.75251054        nan        nan        nan\n",
      "        nan 0.69062575 0.7224052         nan 0.76254275        nan\n",
      " 0.70233082 0.03232879 0.7385758  0.71013711 0.6911813  0.42030902\n",
      " 0.                nan        nan        nan        nan        nan\n",
      "        nan        nan 0.73021148        nan        nan        nan\n",
      "        nan 0.71348657        nan 0.67557618        nan 0.31216443\n",
      "        nan        nan 0.71125442        nan        nan 0.\n",
      "        nan 0.68672571 0.72575217        nan        nan        nan\n",
      " 0.68338247 0.03121271 0.13657582        nan        nan 0.67670468\n",
      " 0.76365634 0.49722474 0.06020944 0.74024618 0.76365634        nan\n",
      "        nan 0.76365634        nan 0.71850143]\n",
      "  warnings.warn(\n"
     ]
    },
    {
     "data": {
      "text/plain": [
       "LogisticRegression(C=0.40797953240506973, class_weight={0: 1.0, 1: 13},\n",
       "                   solver='newton-cg')"
      ]
     },
     "execution_count": 84,
     "metadata": {},
     "output_type": "execute_result"
    }
   ],
   "source": [
    "#use the class weights to handle the imbalance in the labels\n",
    "weights = {0:1.0,1:13}\n",
    "\n",
    "clf = LogisticRegression(class_weight=weights)\n",
    "#define the number of folds \n",
    "folds = StratifiedKFold(n_splits=4,random_state=None, shuffle=False)\n",
    "# define search\n",
    "grid_search = RandomizedSearchCV(estimator=clf,param_distributions=space, n_iter=100, scoring='recall',\n",
    "                            n_jobs=-1, cv=folds, random_state=None)\n",
    "#fit grid search on the train data\n",
    "grid_result = grid_search.fit(X_train,y_train)\n",
    "\n",
    "#retrieve the best model \n",
    "grid_result.best_estimator_"
   ]
  },
  {
   "cell_type": "code",
   "execution_count": 85,
   "id": "379e9cff",
   "metadata": {},
   "outputs": [
    {
     "name": "stdout",
     "output_type": "stream",
     "text": [
      "Classification Report Training set\n",
      "------------------------------------\n",
      "\n",
      "\n",
      "              precision    recall  f1-score   support\n",
      "\n",
      "           0       0.99      0.94      0.97     23775\n",
      "           1       0.53      0.93      0.68      1794\n",
      "\n",
      "    accuracy                           0.94     25569\n",
      "   macro avg       0.76      0.93      0.82     25569\n",
      "weighted avg       0.96      0.94      0.95     25569\n",
      "\n",
      "\n",
      "\n",
      "Classification Report Testing set\n",
      "------------------------------------\n",
      "\n",
      "\n",
      "              precision    recall  f1-score   support\n",
      "\n",
      "           0       0.98      0.93      0.96      5945\n",
      "           1       0.46      0.77      0.58       448\n",
      "\n",
      "    accuracy                           0.92      6393\n",
      "   macro avg       0.72      0.85      0.77      6393\n",
      "weighted avg       0.95      0.92      0.93      6393\n",
      "\n"
     ]
    }
   ],
   "source": [
    "#instantiate the best model\n",
    "clf = LogisticRegression(C=0.16731783677034165,penalty='l2',solver='liblinear',class_weight=weights)\n",
    "\n",
    "#fit and predict\n",
    "clf.fit(X_train,y_train)\n",
    "train_predictions = clf.predict(X_train)\n",
    "test_predictions = clf.predict(X_test)\n",
    "\n",
    "#classification report\n",
    "print('Classification Report Training set')\n",
    "print('------------------------------------')\n",
    "print('\\n')\n",
    "print(classification_report(y_train,train_predictions))\n",
    "print('\\n')\n",
    "\n",
    "print('Classification Report Testing set')\n",
    "print('------------------------------------')\n",
    "print('\\n')\n",
    "print(classification_report(y_test,test_predictions))\n"
   ]
  },
  {
   "cell_type": "code",
   "execution_count": 88,
   "id": "bb9781c4",
   "metadata": {},
   "outputs": [
    {
     "data": {
      "image/png": "[encoded data removed]",
      "text/plain": [
       "<Figure size 864x360 with 2 Axes>"
      ]
     },
     "metadata": {
      "needs_background": "light"
     },
     "output_type": "display_data"
    }
   ],
   "source": [
    "from sklearn.metrics import plot_confusion_matrix\n",
    "plot_confusion_matrix(clf,X_test,y_test,cmap='inferno')\n",
    "plt.title('Confusion Matrix Test Set')\n",
    "plt.show()"
   ]
  },
  {
   "cell_type": "markdown",
   "id": "a93c7e45",
   "metadata": {},
   "source": [
    "## _Summary_\n",
    "\n",
    "- Logistic Regression with default paramaters recall = 29%\n",
    "- Logistic Regression with class weights in proportion to the data imbalance recall = 75%\n",
    "- Logistic Regression fine tuned with grid search and balanced class weights recall = 56%\n",
    "- Logistic Regression fine tuned with grid search and class weights in proportion to data imbalance recall = 77%\n"
   ]
  },
  {
   "cell_type": "code",
   "execution_count": null,
   "id": "992376e1",
   "metadata": {},
   "outputs": [],
   "source": []
  }
 ],
 "metadata": {
  "kernelspec": {
   "display_name": "Python 3 (ipykernel)",
   "language": "python",
   "name": "python3"
  },
  "language_info": {
   "codemirror_mode": {
    "name": "ipython",
    "version": 3
   },
   "file_extension": ".py",
   "mimetype": "text/x-python",
   "name": "python",
   "nbconvert_exporter": "python",
   "pygments_lexer": "ipython3",
   "version": "3.9.7"
  }
 },
 "nbformat": 4,
 "nbformat_minor": 5
}
